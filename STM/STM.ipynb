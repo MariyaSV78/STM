{
 "cells": [
  {
   "cell_type": "markdown",
   "id": "7e6b9026",
   "metadata": {},
   "source": [
    "# Scanning Tunneling Microscopy"
   ]
  },
  {
   "cell_type": "markdown",
   "id": "2e02caa0-c4b5-4ca9-83ef-b2b6c46c5990",
   "metadata": {},
   "source": [
    "<strong>Scanning Tunneling Microscopy</strong> (STM) stands as a revolutionary imaging technique in the domain of nanotechnology, offering exceptional resolution at the atomic and molecular levels. Pioneered in 1981 by Gerd Binnig and Heinrich Rohrer [\\[1\\]](#Bibliography), recipients of the Nobel Prize, STM functions by scanning an acute metallic tip in close proximity to a sample surface. Operating on the principle of tunneling current, a quantum mechanical phenomenon, this technique enables scientists to observe and manipulate individual atoms  [\\[2\\]](#Bibliography). With diverse applications across physics, chemistry, and materials science, STM has transformed our comprehension of surface structures, electronic properties, and the intricate nanoscale universe. Serving as a non-optical method, STM has become an indispensable instrument for scrutinizing and manipulating matter with extraordinary precision, unlocking new horizons in the exploration of nanomaterials and nanodevices."
   ]
  },
  {
   "cell_type": "markdown",
   "id": "599d12a8",
   "metadata": {},
   "source": [
    "In this notebook we discuss the basic theory explaining the working mechanism of STM and measurements that it can be done. \n",
    "\n",
    "In scanning tunneling microscopy, piezo-elements maneuver a metal tip across the surface of a sample (see Fig 1b). Due to an applied voltage and the small distance between the tip and sample (a few ångströms), it becomes possible to measure a tunneling current.\n",
    "\n",
    "The scanning of the sample can be executed in either constant-height or constant-current mode. In constant-height mode, the tunneling current varies with the lateral position of the tip. In the more commonly used constant-current mode, a feedback loop adjusts the height of the tip to maintain a constant tunneling current. Consequently, this yields a profile of the height based on the z-signal.\n",
    "\n",
    "The remarkable resolution down to the atomic level is facilitated by the exponential dependence of the tunneling current on the distance (a change in distance by one ångström results in a tunneling current change of one order of magnitude) and the precise movement with the piezo-elements. Piezo-elements undergo shape changes under applied voltage. Altering the voltage allows for moving the tip with picometer precision.\""
   ]
  },
  {
   "cell_type": "markdown",
   "id": "9d879757",
   "metadata": {},
   "source": [
    "\n",
    "\n",
    "![Consept ot Tunneling](stm_fig1.png \"Consept ot Tunneling\")\n",
    "\n",
    "#### Fig.1 *(a) The general tunneling case through a one-dimensional potential barrier. (b) Schematic of the tunneling arrangement from the tip to the sample through the vacuum barrier in an STM.* "
   ]
  },
  {
   "cell_type": "markdown",
   "id": "29a662dc",
   "metadata": {},
   "source": [
    "### Tunneling throught a one-dimentional potential barrier"
   ]
  },
  {
   "cell_type": "markdown",
   "id": "2438fe4c",
   "metadata": {},
   "source": []
  },
  {
   "cell_type": "markdown",
   "id": "548e93c1",
   "metadata": {},
   "source": [
    "### Bibliography"
   ]
  },
  {
   "cell_type": "markdown",
   "id": "8169e446",
   "metadata": {},
   "source": [
    "[1] G. Binnig, H. Rohrer, Scanning tunneling microscopy, Physica B+C, Volume 127, Issues 1–3, 1984, P.37-45. https://doi.org/10.1016/S0378-4363(84)80008-X.\n",
    "[2] S. Lounis, Theory of Scanning Tunneling Microscopy, arXiv:1404.0961, 2014. https://doi.org/10.48550/arXiv.1404.0961.\n"
   ]
  }
 ],
 "metadata": {
  "kernelspec": {
   "display_name": "Python 3 (ipykernel)",
   "language": "python",
   "name": "python3"
  },
  "language_info": {
   "codemirror_mode": {
    "name": "ipython",
    "version": 3
   },
   "file_extension": ".py",
   "mimetype": "text/x-python",
   "name": "python",
   "nbconvert_exporter": "python",
   "pygments_lexer": "ipython3",
   "version": "3.10.12"
  }
 },
 "nbformat": 4,
 "nbformat_minor": 5
}
