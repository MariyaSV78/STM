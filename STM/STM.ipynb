{
 "cells": [
  {
   "cell_type": "markdown",
   "id": "7e6b9026",
   "metadata": {},
   "source": [
    "# Scanning Tunneling Microscopy"
   ]
  },
  {
   "cell_type": "markdown",
   "id": "b6966df1",
   "metadata": {},
   "source": [
    "1. [Tunneling throught a one-dimentional potential barrier](#step1)\n",
    "\n",
    "    1.1.[Rectangular potential barrier](#step11) \n",
    "\n",
    "    1.2.[Non-rectangular potential barier. Quasiclassical Approximation](#step12)\n",
    "\n",
    "2. [Tunneling current density in methal-insulator-metal system](#step2)\n",
    "\n",
    "    2.1.[Low-Voltage Range](#step21)\n",
    "\n",
    "    2.2.[Intermediate-Voltage Range](#step22)\n",
    "\n",
    "    2.3.[High-Voltage Range](#step23)"
   ]
  },
  {
   "cell_type": "markdown",
   "id": "2e02caa0-c4b5-4ca9-83ef-b2b6c46c5990",
   "metadata": {},
   "source": [
    "<strong>Scanning Tunneling Microscopy</strong> (STM) is a powerful technique in the field of nanotechnology and surface science that allows the imaging and manipulation of individual atoms and molecules at the nanoscale. It was invented by Heinrich Rohrer and Gerd Binnig in 1981, for which they were awarded the Nobel Prize in Physics in 1986. [\\[1\\]](#Bibliography).\n",
    "\n",
    "STM relies on the meticulous scanning of a sharp metallic tip in close proximity to a sample surface. Leveraging the principles of tunneling current, a quantum mechanical phenomenon, this method empowers scientists to not only observe but also manipulate individual atoms  [\\[2\\]](#Bibliography).\n",
    "\n",
    "Its widespread applications across physics, chemistry, and materials science have revolutionized our understanding of surface structures, electronic properties, and the intricate world of nanoscale phenomena. Operating as a non-optical technique, STM stands as an indispensable tool for the precise investigation and manipulation of matter, opening new frontiers in the exploration of nanomaterials and nanodevices."
   ]
  },
  {
   "cell_type": "markdown",
   "id": "599d12a8",
   "metadata": {},
   "source": [
    "    In this notebook we discuss the basic principles explaining the working mechanism of STM and measurements that it can be done. \n",
    "\n",
    "In scanning tunneling microscopy, piezo-elements maneuver a metal tip across the surface of a sample (see Fig 1a). Due to an applied voltage and the small distance between the tip and sample (a few angstroms), it becomes possible to measure a tunneling current.\n",
    "\n",
    "    STM can be operated in three major operation modes: (1) imaging mode, (2) spectroscopy mode, and (3) manipulation mode.\n",
    "\n",
    "(1) The scanning of the sample can be executed in two imaging modes for studeing of surface morphology with atomic resolution: constant-height or constant-current modes:\n",
    "\n",
    "- In the more commonly used *constant-current* mode (Fig.1(b)) a feedback loop provides a constant tunnel current between tip and sample at every position $(x,y)$. This means that the $z$-position of the tip has to be adjusted during scanning which is done by applying an appropriate voltage $V_{z}$ to the $z$-piezo of the tube scanner.\n",
    "      \n",
    "- In *constant-height* mode (Fig.1(c)) the vertical position $z$ of the tip is held constant while scanning and the varying tunnel current between tip and sample is measured.\n",
    "\n",
    "\n",
    "(2) In the spectroscopy STM mode the resulting current $I$ is monitored as a function of the changing parameters:  or distance $z$ ramping:\n",
    "\n",
    "- $I-z$ spectroscopy, when distance $z$ ramping and $V_{bias}$ - const is useful for the characterization of the quality of the STM tip, its sharpness and cleanliness. \n",
    "\n",
    "- $I-V$ spectroscopy , when the current is measured as a function of $V_{bias}$, provides very important information about the surface electronic structure, such as the barrier heights and the local density of state of the surface or analysis of modes of molecular motion."
   ]
  },
  {
   "cell_type": "markdown",
   "id": "9d879757",
   "metadata": {},
   "source": [
    "<img src=\"scheme_STM_19_02.png\" alt=\"STM_scheme_last.png\" width=\"70%\"  />\n",
    "\n",
    "#### Fig.1  Schematic illustration of basic component of STM (a)  and STM operating modes: constant-current (b) and constant-height (c) modes. \n",
    "\n",
    "In Fig.1. STM images of the $\\text{Bi}_2\\text{Se}_3$ surface with a Co adatom deposited on it are presented in both 3D (a) and 2D projections (b). The sample bias is set to $V = 300mV$, and the tunneling current is $I_{t} = 0.10n\\AA$. This material is of interest for the development of topological insulators, which are supposed to be used, for example, in quantum computers as information carriers.  [\\[3\\]](#Bibliography); "
   ]
  },
  {
   "cell_type": "markdown",
   "id": "29a662dc",
   "metadata": {},
   "source": [
    "## <a id=\"step1\">1.Tunneling a single particle throught a one-dimentional potential barrier</a>"
   ]
  },
  {
   "cell_type": "markdown",
   "id": "7d1bc2f4",
   "metadata": {},
   "source": [
    "Here we describe briefly elementary theories of tunneling through a one-dimensional potential\n",
    "barrier, which will help us to grasp the basic concept used in STM. In quantum mechanics, the\n",
    "electron feeling a potential $U(z)$, see Fig. 2(b), is described by a wave function $\\psi(z)$, which satisfies the Schrödinger equation,\n",
    "\n",
    "\\begin {equation}\n",
    "\\frac{-\\hbar^2}{2m}\\frac{d^2\\psi(z)}{dz^2} + U(z)\\psi(z) = E\\psi(z)\n",
    "\\end{equation}\n",
    "\n",
    "where $\\hbar$ is the reduced Planck’s constant, $m$ is the mass of the electron, $E$ is its energy and $z$ its position. For simplicity, the one-dimensional case is considered, where the vacuum is modeled by the potential barrier $U$.\n"
   ]
  },
  {
   "cell_type": "markdown",
   "id": "0a0420a9",
   "metadata": {},
   "source": [
    "### <a id=\"step11\">1.1.Rectangular potential barrier</a> "
   ]
  },
  {
   "cell_type": "markdown",
   "id": "2092a64f",
   "metadata": {},
   "source": [
    "<img src=\"Fig_2a_01_03.png\" alt=\"Consept ot Tunneling\" width=\"40%\"  />\n",
    "\n",
    "#### Fig.2  Schematic of a particle tunneling through a rectangular potential barrier."
   ]
  },
  {
   "cell_type": "markdown",
   "id": "4af606d7",
   "metadata": {},
   "source": [
    "In the case of a rectangular potential barrier $U(z)$ the solution to the wave equation (1) for each region , sample (s), barrier (b) and tip (t) are written as:"
   ]
  },
  {
   "cell_type": "markdown",
   "id": "d1bfff8c",
   "metadata": {},
   "source": [
    "\\begin{equation}\n",
    "\\begin{aligned}\n",
    "    &\\text{sample:  } z >=0 \\quad &U(z)= 0 \\quad &\\psi_s(z) = e^{ikz} + Ae^{-ikz} \\quad &k = \\frac{\\sqrt{2mE_0}}{\\hbar} \\quad &\\text{- incoming wave + reflected wave} \\\\\n",
    "    &\\text{barrier:  } 0 < z < d \\quad &U(z) = U \\quad &\\psi_b(z) = Be^{-\\varkappa z} + Ce^{\\varkappa z} \\quad &\\varkappa = \\frac{\\sqrt{2m(U - E_0)}}{\\hbar} \\quad &\\text{- decaying wave function in barrier} \\tag{2}\\\\\n",
    "    &\\text{tip: } z < d \\quad &U(z) = 0 \\quad &\\psi_t(z) = De^{ikz} \\quad &k = \\frac{\\sqrt{2mE_0}}{\\hbar} \\quad &\\text{- transmitted wave}\n",
    "\\end{aligned}\n",
    "\\end{equation}"
   ]
  },
  {
   "cell_type": "markdown",
   "id": "31c3ee7c",
   "metadata": {},
   "source": [
    "The coefficients $A, B, C$ and $D$ take care of reflection and transmission of the electrons and result from the continuity condition at two interface:\n",
    "$$\\psi_s(0) = \\psi_b(0)\\tag{3} $$\n",
    "$$\\psi_b(d) = \\psi_t(d) \\tag{4}$$\n",
    "$$ \\frac{d\\psi_s(0)}{dz} = \\frac{d\\psi_b(0)}{dz} \\tag{5}$$\n",
    "$$\\frac{d\\psi_b(d)}{dz} = \\frac{d\\psi_t(d)}{dz}\\tag{6}$$"
   ]
  },
  {
   "cell_type": "markdown",
   "id": "f5983fb1",
   "metadata": {},
   "source": [
    "Using equations (2)-(6) we can write:\n",
    "\\begin{align}\n",
    "    \\begin{pmatrix}\n",
    "        1 & -1 & -1 & 0 \\\\\n",
    "        -ik & \\varkappa & -\\varkappa & 0 \\\\\n",
    "        0 & e^{-\\varkappa d} & e^{\\varkappa d} & -e^{ikd} \\\\\n",
    "        0 & -\\varkappa e^{-\\varkappa d} & \\varkappa e^{\\varkappa d} & -ike^{ikd} \\\\\n",
    "    \\end{pmatrix}\n",
    "    \\begin{pmatrix}\n",
    "        A \\\\\n",
    "        B \\\\\n",
    "        C \\\\\n",
    "        D \\\\\n",
    "    \\end{pmatrix}\n",
    "    &=\n",
    "    \\begin{pmatrix}\n",
    "        -1 \\\\\n",
    "        -ik \\\\\n",
    "        0 \\\\\n",
    "        0 \\\\\n",
    "    \\end{pmatrix}\n",
    "    \\tag{7}\n",
    "\\end{align}\n",
    "\n",
    "We can find analytical expressions for these coefficients, using \"Mathematica\" [\\[4\\]](#Bibliography), for example, or\n",
    "we can find them numerically using the NumPy library as demomstrated in this notebook "
   ]
  },
  {
   "cell_type": "code",
   "execution_count": 89,
   "id": "53f92c34",
   "metadata": {},
   "outputs": [
    {
     "name": "stdout",
     "output_type": "stream",
     "text": [
      "k = 3.622 1/nm\n",
      "kappa = 3.622 1/nm\n"
     ]
    }
   ],
   "source": [
    "\"\"\"\n",
    "    import library\n",
    "\n",
    "    determining the constant and physical variables:\n",
    "        m - mass of electron;\n",
    "        U - potential energy;\n",
    "        E0 - particle energy;\n",
    "        k - wave vector;\n",
    "        kappa - \n",
    "        d - potential barrier width;\n",
    "\n",
    "\"\"\"\n",
    "\n",
    "import numpy as np\n",
    "import matplotlib.pyplot as plt\n",
    "\n",
    "m = 9.11e-31 #Electron mass in eV*s^2/m^2 -> kg = J s^2/m^2 -> J = 6,24e18 eV :  1kg = 6.24e18 eV*s^2/m^2\n",
    "hbar = 1.054e-34       #redused Planck constant in 6.5821e-16 eV*s or 1.054e-34 J*s\n",
    "e = 1.6e-19\n",
    "U = 1*e\n",
    "E0 = 0.5*U\n",
    "\n",
    "phi = 4.5*e # Work function eV\n",
    "V = 0.3 # Applied voltage in eV\n",
    "\n",
    "k = (np.sqrt(2 * m * E0)/hbar)\n",
    "kappa = (np.sqrt(2 * m * (U - E0))/hbar)\n",
    "d = 10e-10\n",
    "\n",
    "print(f\"k = {k*1e-9:.4} 1/nm\")\n",
    "print(f\"kappa = {kappa*1e-9:.4} 1/nm\")"
   ]
  },
  {
   "cell_type": "code",
   "execution_count": 90,
   "id": "2eef10b5",
   "metadata": {},
   "outputs": [
    {
     "name": "stdout",
     "output_type": "stream",
     "text": [
      "A=-0.9985728404234246j\n",
      "B=(0.9992864202117123-0.9992864202117123j), C=(0.0007135797882877288+0.0007135797882877288j)\n",
      "D=(-0.04735527566405629+0.02469332370247354j)\n",
      "R + T = 1.0000000000000002\n"
     ]
    }
   ],
   "source": [
    "\"\"\"\n",
    "    analytical solutions for A, B, C, D eq(7) obtained in \"Mathematica\"\n",
    "\"\"\"\n",
    "\n",
    "F = 2*1j*k*kappa*np.cosh(kappa*d)+(k**2-kappa**2)*np.sinh(kappa*d)\n",
    "\n",
    "A = (k**2 + kappa**2)*np.sinh(kappa*d)/F\n",
    "B = (k*(k+1j*kappa)*np.exp(kappa*d))/F\n",
    "C = (-k*(k-1j*kappa)*np.exp(-kappa*d))/F\n",
    "D = (2*1j*kappa*k*np.exp(-1j * k * d))/F\n",
    "\n",
    "print(f\"A={A}\")\n",
    "print(f\"B={B}, C={C}\")\n",
    "print(f\"D={D}\")\n",
    "print(f\"R + T = {np.abs(A)**2 + np.abs(D)**2}\")"
   ]
  },
  {
   "cell_type": "code",
   "execution_count": 91,
   "id": "dcaff821",
   "metadata": {},
   "outputs": [
    {
     "name": "stdout",
     "output_type": "stream",
     "text": [
      "A= (2.632822118174068e-16-0.9985728404234245j)\n",
      "B=(0.9992864202117122-0.999286420211712j), C= (0.0007135797882877288+0.0007135797882877287j)\n",
      "D=(-0.0473552756640563+0.02469332370247354j)\n",
      "inverse matrix = [[ 5.00000000e-01+4.99286420e-01j  1.37838705e-10+1.38035704e-10j\n",
      "   2.67033817e-02+1.34520755e-15j  3.05543019e-25+7.37204019e-12j]\n",
      " [-4.99643210e-01+4.99643210e-01j  1.37937205e-10+1.37937205e-10j\n",
      "   1.33516908e-02+1.33516908e-02j -3.68602009e-12+3.68602009e-12j]\n",
      " [-3.56789894e-04-3.56789894e-04j -9.84994886e-14+9.84994886e-14j\n",
      "   1.33516908e-02-1.33516908e-02j  3.68602009e-12+3.68602009e-12j]\n",
      " [ 2.36776378e-02-1.23466619e-02j -3.40856033e-12-6.53671883e-12j\n",
      "   6.74196989e-01+2.11530966e-01j -1.86042920e-10-5.86634138e-11j]]\n",
      "coeficient obtained by using inverse matrix  = [ 5.55111512e-17-9.98572840e-01j  9.99286420e-01-9.99286420e-01j\n",
      "  7.13579788e-04+7.13579788e-04j -4.73552757e-02+2.46933237e-02j]\n",
      "R + T = 1.0\n"
     ]
    }
   ],
   "source": [
    "\"\"\"\n",
    "    numerical solutions for A, B, C, D eq(7) obtained using NumPy\n",
    "\"\"\"\n",
    "\n",
    "M = np.array([[1,-1,-1,0], \n",
    "              [-1j*k, kappa, -kappa, 0], \n",
    "              [0, np.exp(-kappa*d), np.exp(kappa*d), -np.exp(1j*k*d)], \n",
    "              [0, -kappa*np.exp(-kappa*d), kappa*np.exp(kappa*d), -1j*k*np.exp(1j*k*d)]])\n",
    "\n",
    "N = np.array([-1, -1j*k, 0, 0])\n",
    "\n",
    "x = np.linalg.solve(M,N)\n",
    "\n",
    "print(f\"A= {x[0]}\")\n",
    "print(f\"B={x[1]}, C= {x[2]}\")\n",
    "print(f\"D={x[3]}\")\n",
    "\n",
    "print (f'inverse matrix = {np.linalg.inv(M)}' )\n",
    "print (f'coeficient obtained by using inverse matrix  = {np.linalg.inv(M)@N}' )\n",
    "\n",
    "print(f\"R + T = {np.abs(x[0])**2 + np.abs(x[3])**2}\")"
   ]
  },
  {
   "cell_type": "code",
   "execution_count": 92,
   "id": "4924fd3c",
   "metadata": {},
   "outputs": [
    {
     "name": "stdout",
     "output_type": "stream",
     "text": [
      "inverse matrix = [[ 5.00000000e-01+4.99286420e-01j  1.37838705e-10+1.38035704e-10j\n",
      "   2.67033817e-02+1.34520755e-15j  3.05543019e-25+7.37204019e-12j]\n",
      " [-4.99643210e-01+4.99643210e-01j  1.37937205e-10+1.37937205e-10j\n",
      "   1.33516908e-02+1.33516908e-02j -3.68602009e-12+3.68602009e-12j]\n",
      " [-3.56789894e-04-3.56789894e-04j -9.84994886e-14+9.84994886e-14j\n",
      "   1.33516908e-02-1.33516908e-02j  3.68602009e-12+3.68602009e-12j]\n",
      " [ 2.36776378e-02-1.23466619e-02j -3.40856033e-12-6.53671883e-12j\n",
      "   6.74196989e-01+2.11530966e-01j -1.86042920e-10-5.86634138e-11j]]\n",
      "coefficient obtained by using inverse matrix = [ 5.55111512e-17-9.98572840e-01j  9.99286420e-01-9.99286420e-01j\n",
      "  7.13579788e-04+7.13579788e-04j -4.73552757e-02+2.46933237e-02j]\n"
     ]
    }
   ],
   "source": [
    "\"\"\"\n",
    "    otherwise, to finde solutions for A, B, C, D eq(7), we need to multiply the inverse matrix M^(-1) by the matrix N using NumPy\n",
    "\"\"\"\n",
    "\n",
    "print (f\"inverse matrix = {np.linalg.inv(M)}\")\n",
    "print(f\"coefficient obtained by using inverse matrix = {np.linalg.inv(M)@N}\")"
   ]
  },
  {
   "cell_type": "code",
   "execution_count": 97,
   "id": "13b85fce",
   "metadata": {},
   "outputs": [
    {
     "name": "stdout",
     "output_type": "stream",
     "text": [
      "5e-09\n"
     ]
    },
    {
     "data": {
      "image/png": "[encoded data removed]",
      "text/plain": [
       "<Figure size 640x480 with 2 Axes>"
      ]
     },
     "metadata": {},
     "output_type": "display_data"
    }
   ],
   "source": [
    "# Define the conditions for energy dependency\n",
    "def barrier_energy(z, d):\n",
    "    out = np.zeros_like(z)\n",
    "    cond = z <= 0\n",
    "    out[cond] = 0\n",
    "    cond = np.logical_and(z > 0,  z < d)\n",
    "    out[cond] = U/e\n",
    "    cond = z >= d\n",
    "    out[cond] = 0\n",
    "    return out\n",
    "    \n",
    "# Define the conditions for wave function dependency\n",
    "def wave_function(z, d, x):\n",
    "    out = np.zeros_like(z, dtype=np.complex64)\n",
    "    cond = z <= 0\n",
    "    out[cond] = np.exp(1j*k*z[cond]) + x[0]*np.exp(-1j*k*z[cond])\n",
    "    cond = np.logical_and(z > 0,  z < d)\n",
    "    out[cond] = x[1]*np.exp(-kappa*z[cond]) + x[2]*np.exp(kappa*z[cond])\n",
    "    cond = z >= d\n",
    "    out[cond] = x[3]*np.exp(1j*k*z[cond])\n",
    "    return out\n",
    "\n",
    "z_min = -4*d\n",
    "z_max = (4 + 1)*d\n",
    "# Define the range of z values\n",
    "z = np.linspace(z_min, z_max, 1000)  # Adjust the range as needed\n",
    "\n",
    "# Calculate the energy values for each z\n",
    "barrier_energy_values = barrier_energy(z, d)\n",
    "wf_energy_values = wave_function(z, d, x)\n",
    "# Plot the energy and wave function dependencies\n",
    "fig, ax1 = plt.subplots()\n",
    "\n",
    "ax1.set_ylabel('z, $\\AA$')\n",
    "ax1.set_xlabel('Energy')\n",
    "ax1.plot(barrier_energy_values, z*1e9, 'black')\n",
    "\n",
    "ax1.tick_params(axis='y')\n",
    "ax1.axvline(x=E0/e, color='red', linestyle='--')\n",
    "ax1.axvline(x=U/e, color='green', linestyle='--')\n",
    "# Add labels near the vertical dashed lines\n",
    "ax1.text(E0/e-0.01, z_max*1e9, 'E0', color='red', verticalalignment='bottom', horizontalalignment='right')\n",
    "ax1.text(U/e-0.01,  z_max*1e9, 'U', color='green', verticalalignment='bottom', horizontalalignment='right')\n",
    "print(z_max)\n",
    "\n",
    "ax2 = ax1.twiny()  \n",
    "color = 'tab:blue'\n",
    "ax2.plot(np.real(wf_energy_values),  z*1e9, color=color)\n",
    "\n",
    "ax2.set_ylim([-3.9, 4.9])\n",
    "ax2.set_xlim([-1.45, 1.7])\n",
    "ax1.set_xlim([-0.005, 1.1])\n",
    "\n",
    "ax2.set_xticks([])\n",
    "\n",
    "plt.show()\n"
   ]
  },
  {
   "cell_type": "markdown",
   "id": "353c058a",
   "metadata": {},
   "source": [
    "So, the propability of transmission is given as the transmitted particle flow $S_{trans}$ divided by the incoming particle flow $S_{incom}$. In general, the particle flow depends on probability density $|\\psi(z)|^2$ and velocity $v$. The transmission is given as (the incident wave amplitude is assumed to be 1):\n",
    "$$T = \\frac{S_{trans}}{S_{incom}} = \\frac{|\\psi_{t}(z)|^2v_{t}}{|\\psi_{s}(z)|^2v_{s}} = DD* = \\left(ch^2(\\varkappa d)+\\frac{1}{4} \\left(\\frac{\\varkappa}{k} - \\frac{k}{\\varkappa}\\right) sh^2 (\\varkappa d)\\right)\\tag{8}$$\n",
    "\n",
    "The analytical expression for $D$ was obtained by using \"Mathematica\" [\\[4\\]](#Bibliography).\n",
    "For low particle energy $E_0 << U$  and wide rectangular barrier $kd >> 1$ the probability of transmission simplifies to:\n",
    "$$T(E_0) = T_0 \\exp{\\left(-\\frac{2d}{\\hbar}\\sqrt{2m(U - E_0)}\\right)} \\tag{9}$$\n",
    "where $T_0 = 4\\left(1 + \\frac{1}{4} \\left(\\frac{\\varkappa}{k} - \\frac{k}{\\varkappa}\\right)^2\\right)^{-1}$."
   ]
  },
  {
   "cell_type": "markdown",
   "id": "d4e9cb42",
   "metadata": {},
   "source": [
    "### <a id=\"step12\">1.2.Non-rectangular potential barier. Quasiclassical Approximationr</a>"
   ]
  },
  {
   "cell_type": "markdown",
   "id": "13f6c391",
   "metadata": {},
   "source": [
    "However, in many quantum mehanical problems it is necessary to find the transmission coefficient of the more complicated shape barier.\n",
    "In conditions when de Broglie wavelength of the particle $\\lambda$ is less than characteristic length $d$ and the barrier height should not change much over the length $d$ we can apply **the quasiclassical approximation** for solution of Schrodinger equations [\\[5\\]](#Bibliography). In this case the barrier transparency is\n",
    "$$ T(E) \\propto \\exp\\left\\{ -\\frac{2}{\\hbar}\\int\\limits_{z_1 = 0}^{z_2 = d} \\sqrt{2m(U(z) - E)dz} \\right\\}\\tag{10} $$\n",
    "\n",
    "How we can see, in both cases the transparency decreases exponentially with barrier width.\n"
   ]
  },
  {
   "cell_type": "markdown",
   "id": "68d52e19",
   "metadata": {},
   "source": [
    "## <a id=\"step2\">2.Tunneling current density in methal-insulator-metal system</a>"
   ]
  },
  {
   "cell_type": "markdown",
   "id": "84933c41",
   "metadata": {},
   "source": [
    "<img src=\"Fig_2b_07_03.png\" alt=\"Consept ot Tunneling\" width=\"40%\"  />\n",
    "\n",
    "#### Fig.2  A schematic showing some of the principles of electron tunneling with energy diagram in case of negative voltages. Where $V$ is applied bias, $e$ is the elementary charge, $I$ is current, $z$ is vertical distance, $E_{F}$ is Fermi level, $\\Phi_{t}$, $\\Phi_{s}$ are work functions of materials of tip and sample, respectively.\n",
    "\n"
   ]
  },
  {
   "cell_type": "markdown",
   "id": "d40db685",
   "metadata": {},
   "source": [
    "In a metal-insulator-metal (MIM) system, when two metal electrodes are under the same potential, the system is in thermodynamic equilibrium, signifying that their Fermi levels coincide. This equilibrium state implies a balance in electron distribution between the two electrodes. For the initiation of a **tunnel current**, a bias energy $eV$ needs to be applied to the system.\n",
    "\n",
    "It is known that electric current is the ordered movement of charged particles. In the context of a metal-insulator-metal (MIM) system, the flow of charge carriers, typically electrons, across the insulating barrier constitutes the tunnel current. \n",
    "\n",
    "Thus, the number of particles passing through the barrier is given by $N = N_1 - N_2$, where $N_1$ and $N_2$ represent the number of electrons passing in each direction. This quantity detrmines the value of the tunneling current densitu $J$ and depends on the energy density of states $n(p_z)$ and propability $ T(E_z)$ of the electrion transmission through the barrier of height $U(z)$."
   ]
  },
  {
   "cell_type": "markdown",
   "id": "54ae92c5",
   "metadata": {},
   "source": [
    "$$ N_1 = \\int\\limits_0^{E_\\infty}{T(E_z)n(p_z)dE_z} \\tag{11}$$\n",
    "\n",
    "where\n",
    " $$ n(p_z) = \\frac{1}{4\\pi^3\\hbar^3}\\int\\limits_{-\\infty}^{\\infty}\\int\\limits_{-\\infty}^{\\infty}{f_1(E)(1 - f_2(E + eV))dp_xdp_y} \\tag{12}$$\n",
    "and $f_1(E)$, $f_2(E + eV)$ - the Fermi-Dirac functions for the first (sample) and the seconde (tip) electrodes, respectively."
   ]
  },
  {
   "cell_type": "markdown",
   "id": "d84af4c6",
   "metadata": {},
   "source": [
    "After integration of expression (12) in polar coordinates (where $p_r^2=p_x^2+p_y^2$ and $E = E_z + E_r$) and substituting it in (11) we obtain:"
   ]
  },
  {
   "cell_type": "markdown",
   "id": "57ab2a62",
   "metadata": {},
   "source": [
    "- the number of electrons $N_1$ tunelling through the barrier from elecrtode 1(sample) into electrode 2 (tip) we can write [\\[6\\]](#Bibliography) \n",
    "$$N_1 = \\frac{m}{2\\pi^2\\hbar^3}\\int\\limits_0^\\infty {T(E_z)dE_z}\\int\\limits_0^\\infty{f_1(E_z + E_r)(1 -f_2(E_z + E_r + eV))dE_r} \\tag{13}$$"
   ]
  },
  {
   "cell_type": "markdown",
   "id": "7294b418",
   "metadata": {},
   "source": [
    "- the number of electrons $N_2$ tunelling through the barrier from elecrtode 2(tip) into electrode 1 (sample) we can write [\\[6\\]](#Bibliography) \n",
    "$$N_2 = \\frac{m}{2\\pi^2\\hbar^3}\\int\\limits_0^\\infty {T(E_z)dE_z}\\int\\limits_0^\\infty{f_2(E_z + E_r + eV)(1 -f_1(E_z + E_r))dE_r}\\tag{14}$$"
   ]
  },
  {
   "cell_type": "markdown",
   "id": "485f8f98",
   "metadata": {},
   "source": [
    "Let's denote\n",
    "$$\\xi_1(E_z) = \\frac{me}{2\\pi^2\\hbar^3}\\int\\limits_0^\\infty{f_1(E)(1 - f_2(E + eV))dE_r}$$\n",
    "\n",
    "$$\\xi_2(E_z) = \\frac{me}{2\\pi^2\\hbar^3}\\int\\limits_0^\\infty{f_2(E + eV)(1 - f_1(E))dE_r}$$\n",
    "\n",
    "$$\\xi(E_z,eV)=\\xi_1-\\xi_2 = \\frac{me}{2\\pi^2\\hbar^3}\\int\\limits_0^\\infty{\\left[f_1(E) - f_2(E + eV)\\right]dE_r}"
   ]
  },
  {
   "cell_type": "markdown",
   "id": "44f45f90",
   "metadata": {},
   "source": [
    "So, we can write the expression to calculate the tunneling current in an MIM system for a potential barrier with an arbitrary shape:\n",
    "\n",
    "$$ J = \\int\\limits_0^{E_\\infty}{T(E_z)\\xi(E_z,eV)dE_z} \\tag{15}"
   ]
  },
  {
   "cell_type": "markdown",
   "id": "4e523a8f",
   "metadata": {},
   "source": [
    "Let's integrat (10) by using expression $\\int_{z_1}^{z_2}{\\sqrt{f(z)dz} = \\beta\\sqrt{\\bar f \\delta_z}}$ form [\\[6\\]](#Bibliography)  and suppose $U(z) = \\mu + \\varphi(z)$ (according Fig??? shape potential barrier) we can get\n",
    "\n",
    "$$T(E_z) \\propto \\exp{\\left\\{-A \\delta_z \\sqrt{\\mu + \\bar \\varphi(z) - E_z}\\right\\}} \\tag{16}$$\n",
    "\n",
    "where $\\bar \\varphi$ - is average barrier height relative to Fermi level of negative electrode and $\\mu$ is chemical potential. In a metal at the temperature close to absolute zero chemical potential coincides with the Fermi level."
   ]
  },
  {
   "cell_type": "markdown",
   "id": "7dcb5d96",
   "metadata": {},
   "source": [
    "At  $T = 0 K$ \n",
    "\n",
    "$$\\xi(E_z) = \\frac{me}{2\\pi^2\\hbar^3}\\begin{cases}\n",
    "                                        eV, & E_z \\in \\left[0; \\mu - eV \\right];\\\\\n",
    "                                        \\mu - E_z, & E_z \\in \\left[\\mu - eV; \\mu \\right];\\\\\n",
    "                                        0, & E_z > \\mu\n",
    "                                    \\end {cases} \\tag{17} $$\n",
    "\n"
   ]
  },
  {
   "cell_type": "markdown",
   "id": "d464dc05",
   "metadata": {},
   "source": [
    "Introducing (16) and (17) in (15) and integrating the obtained expression, we obtain the aproximate expression for the tunelling current density in the MIM system for arbitrary barrier shape (for more details, refer to [\\[6\\]](#Bibliography),[\\[7\\]](#Bibliography))\n",
    "\n",
    "$$J = J_0\\left\\{\\bar \\phi \\exp\\left[{-A\\delta_z\\sqrt{\\bar \\phi}}\\right] - (\\bar \\phi + eV) \\exp\\left[-A\\delta_z\\sqrt{\\bar \\phi + eV}\\right] \\right\\}\\tag{18}$$\n",
    "\n",
    "where   \n",
    "        $$ J_0 = \\frac{e}{4\\pi^2\\beta^2\\hbar\\delta_z^2},$$\n",
    "        $$ A = 2\\beta\\sqrt{\\frac{2m}{\\hbar^2}}\\tag{19},$$ \n",
    "        $\\beta$ - the correction factor that depends on the bais, for more details refer to[\\[7\\]](#Bibliography).  \n",
    "        $\\bar \\phi$ - average barrier height,  \n",
    "        $\\delta_z$ - barrier width,  \n",
    "        $V$ - voltage between electrodes.\n",
    "\n",
    "Equation (18) can be interpreted as a current density $J_0\\bar \\phi \\exp({-A\\delta_z\\sqrt{\\bar \\phi}})$ flowing from electrode 1 to electrode 2 and $ J_0(\\bar \\phi + eV) \\exp(-A\\delta_z\\sqrt{\\bar \\phi + eV})$ flowing from electrode 2 to electrode 1, resulting in a net current density $J$ (see, Fig())."
   ]
  },
  {
   "cell_type": "markdown",
   "id": "75cc7abc",
   "metadata": {},
   "source": [
    "<img src=\"Fig_3_20_03.png\" alt=\"Potential barrier in MIM system in case different values of V \" width=\"80%\"  />\n",
    "\n",
    "#### Fig.3  Potential barrier in MIM system in case different values of V: (a) $V \\sim 0$; (b) $eV < \\varphi_t$ and (c) $eV > \\varphi_t.$\n",
    "\n",
    "\n",
    "\n",
    "\n"
   ]
  },
  {
   "cell_type": "markdown",
   "id": "731480e3",
   "metadata": {},
   "source": [
    "### <a id=\"step21\">2.1. Low-Voltage Range</a>"
   ]
  },
  {
   "cell_type": "markdown",
   "id": "d3a97dc8",
   "metadata": {},
   "source": [
    "At low voltages $\\bar \\phi >> eV$ expression (18) can be simplified \n",
    "\n",
    "$$ J = J_0eV\\left[A \\delta_z \\sqrt{\\bar \\phi}/2 - 1 \\right] \\exp \\left[ -A\\delta_z \\sqrt{\\bar \\phi}\\right] \\tag{20}$$\n",
    "\n",
    "Since $A \\delta_z \\sqrt{\\bar \\phi}/2 >> 1$ eq.(20) reduces to\n",
    "\n",
    "$$ J = J_L\\sqrt{\\bar \\phi}V \\exp \\left[ -A\\delta_z\\sqrt{\\bar \\phi}\\right] \\tag{21}$$\n",
    "\n",
    "where $$ J_L = \\frac{e^2\\sqrt{2m}}{4\\beta\\pi^2\\hbar^2\\delta_z} \\tag{22} $$\n",
    "\n",
    "The energy diagram for this case is shown on Fig.3(a), how we can see $\\delta_z = d$ and $\\bar \\phi = (\\phi_s + \\phi_t) / 2$. The coefficient $\\beta$ was defined in [\\[7\\]](#Bibliography), where it was observed that, since $eV \\simeq 0$, $\\beta$ takes the value unity. $A$ is defined in eq.(19).\n",
    "\n",
    "Thus, in this case eq(20) expresses $J$ as a linear function of $V$ (see section 1 on the Fig.4.)."
   ]
  },
  {
   "cell_type": "markdown",
   "id": "24c199c8",
   "metadata": {},
   "source": [
    "### <a id=\"step22\">2.2. Intermediate-Voltage Range</a>"
   ]
  },
  {
   "cell_type": "markdown",
   "id": "9bab8ea5",
   "metadata": {},
   "source": [
    "If $eV < \\phi_t$ we can see from Fig.3(b) that $\\delta_z = d$ and $\\bar \\phi = (\\phi_s + \\phi_t - eV)/2$. In [\\[7\\]](#Bibliography) it is shown, that for this case the tunneling current-voltage relation is given by\n",
    "\n",
    "$$ J = J_L\\sqrt{\\bar \\phi}\\exp{\\left[ -A\\delta_z\\sqrt{\\bar \\phi}\\right] \\left[V + \\beta V^3 \\right]}, \\tag{23}$$\n",
    "\n",
    "where\n",
    "\n",
    "$$ \\beta = \\frac{(Ae)^2}{96\\bar \\phi {\\delta_z}^2} - \\frac{Ae^2}{32\\delta_z{\\bar \\phi}^{3/2}},$$\n",
    "\n",
    "however, how it was prooved in [\\[7\\]](#Bibliography), in the case intermediate-voltage range the approximation $\\beta = 1$ is a reasonable. The value of $A$ and $J_L$ are defined above in eq.(19) and eq.(22), respectively. The section 2 in Fig.4 corrponds to the current-voltage characteristic obtaned from eq.(23). "
   ]
  },
  {
   "cell_type": "markdown",
   "id": "8e49b482",
   "metadata": {},
   "source": [
    "### <a id=\"step23\">2.3. High-Voltage Range</a>"
   ]
  },
  {
   "cell_type": "markdown",
   "id": "0478e045",
   "metadata": {},
   "source": [
    "Figure 3(c) illustrates the energy diagram for the case, when $eV > \\phi_t$. From this figure let's define \n",
    "\n",
    "$ \\delta_z = d\\phi_s(\\phi_s + \\phi_t + eV)$  and\n",
    "\n",
    "$\\bar \\phi = \\phi_s/2$.\n",
    "\n",
    "Substituting this values in eq.(18), we obtain expression for the tunelling current density in high voltage range case:\n",
    "\n",
    "$$ J = \\frac{e^3F^2}{8\\pi^2\\hbar\\phi_s\\beta^2}\\left\\{\\exp{\\left[ -\\frac{4\\pi\\beta}{e hbar F}\\sqrt{m}{\\phi_s}^{3/2}\\right]} - \\left( 1 + \\frac{2eV}{\\phi_s}\\right)\\exp{\\left[ -\\frac{4\\pi\\beta}{e hbar F}\\sqrt{m}{\\phi_s}^{3/2}\\sqrt{1 + \\frac{2eV}{\\phi_s}}\\right]} \\right\\}, \\tag{24}  $$\n",
    "\n",
    "where $ F = V/d $ defines the electric field strength in the insulator.\n",
    "\n",
    "In this case it is necessary to determine the correction factor $\\beta$,  from [\\[7\\]](#Bibliography) \n",
    "\n",
    "$$ \\beta = 1 - \\left[ \\frac{(eV/d)^2}{8\\Delta s}\\right]\\int\\limits_0^{\\Delta d = \\phi_s/eV}{(\\Delta d/2 - x)^2 dx / (\\phi_s/2)^2} = 1 - 1/24 = 23/24 .$$"
   ]
  },
  {
   "cell_type": "markdown",
   "id": "c6d018f5",
   "metadata": {},
   "source": [
    "For very high voltages, when $eV > \\phi_s + \\mu$ the Fermi level of electrode 2 (in our case - tip) lies below the bottom of the conduction band of electrode 1(sample). Under this condition, electrons cannot tunnel from electrode 2 to electrode 1, since there are no empty levels available to them. This situation is similar to autoelectronic emission from a metal electrode into vacuum and it is reversed.  Thus, second term in eq.(24) is negligible and we get \n",
    "\n",
    "$$ J = \\frac{e^3F^2}{8\\pi^2\\hbar\\phi_s\\beta^2}\\exp{\\left[ \\frac{4\\pi\\beta}{e \\hbar F}\\sqrt{m}{\\phi_s}^{3/2}\\right]} \\tag{25}$$"
   ]
  },
  {
   "cell_type": "markdown",
   "id": "cdefe7df",
   "metadata": {},
   "source": [
    "Using equations (21)-(25) plot current-voltage characteristic (Fig.4) for case of carbone electrode 1(sample) with $\\phi = 4,7 eV$ and platinum electrode 2 (tip) with $\\phi = 5,3 eV$ at $d = 5 \\AA$ and contact area $ S = 10^{-17} m^2 $. "
   ]
  },
  {
   "cell_type": "code",
   "execution_count": 36,
   "id": "51bb495d",
   "metadata": {},
   "outputs": [
    {
     "name": "stdout",
     "output_type": "stream",
     "text": [
      "F=[1.26182351e+14 1.27741664e+14 1.29315371e+14 1.30903560e+14\n",
      " 1.32506319e+14 1.34123738e+14 1.35755905e+14 1.37402909e+14\n",
      " 1.39064841e+14 1.40741790e+14 1.42433845e+14 1.44141099e+14\n",
      " 1.45863640e+14 1.47601560e+14 1.49354951e+14 1.51123903e+14\n",
      " 1.52908509e+14 1.54708859e+14 1.56525048e+14 1.58357167e+14\n",
      " 1.60205308e+14 1.62069566e+14 1.63950033e+14 1.65846803e+14\n",
      " 1.67759970e+14 1.69689628e+14 1.71635872e+14 1.73598795e+14\n",
      " 1.75578493e+14 1.77575062e+14 1.79588597e+14 1.81619193e+14\n",
      " 1.83666946e+14 1.85731954e+14 1.87814312e+14 1.89914117e+14\n",
      " 1.92031467e+14 1.94166458e+14 1.96319189e+14 1.98489757e+14\n",
      " 2.00678260e+14 2.02884798e+14 2.05109468e+14 2.07352370e+14\n",
      " 2.09613603e+14 2.11893266e+14 2.14191460e+14 2.16508284e+14\n",
      " 2.18843838e+14 2.21198224e+14 2.23571542e+14 2.25963893e+14\n",
      " 2.28375380e+14 2.30806102e+14 2.33256163e+14 2.35725665e+14\n",
      " 2.38214709e+14 2.40723400e+14 2.43251839e+14 2.45800130e+14\n",
      " 2.48368378e+14 2.50956685e+14 2.53565155e+14 2.56193894e+14\n",
      " 2.58843005e+14 2.61512594e+14 2.64202766e+14 2.66913627e+14\n",
      " 2.69645281e+14 2.72397835e+14 2.75171396e+14 2.77966069e+14\n",
      " 2.80781962e+14 2.83619182e+14 2.86477836e+14 2.89358031e+14\n",
      " 2.92259876e+14 2.95183478e+14 2.98128947e+14 3.01096390e+14\n",
      " 3.04085918e+14 3.07097638e+14 3.10131660e+14 3.13188095e+14\n",
      " 3.16267052e+14 3.19368642e+14 3.22492974e+14 3.25640161e+14\n",
      " 3.28810313e+14 3.32003541e+14 3.35219957e+14 3.38459674e+14\n",
      " 3.41722802e+14 3.45009455e+14 3.48319746e+14 3.51653787e+14\n",
      " 3.55011692e+14 3.58393574e+14 3.61799546e+14 3.65229724e+14]\n"
     ]
    },
    {
     "data": {
      "image/png": "[encoded data removed]",
      "text/plain": [
       "<Figure size 640x480 with 1 Axes>"
      ]
     },
     "metadata": {},
     "output_type": "display_data"
    }
   ],
   "source": [
    "\"\"\"\n",
    "    Using equations (21)-(25) plot current-voltage characteristic for case of \n",
    "        phi_s = 4,7 eV - work function of carbone - electrode 1(sample);\n",
    "        phi_t = 5,3 eV - work function of platinum electrode 2 (tip) with ;\n",
    "        d = 5 A- distance between electrodes \n",
    "        S = 10-17 m^2 - contact area S = 10-17 m^2. \n",
    "        V -  applied voltage in V\n",
    "\"\"\"\n",
    "\n",
    "import numpy as np\n",
    "import matplotlib.pyplot as plt\n",
    "import math\n",
    "\n",
    "\n",
    "m = 9.11e-31 #Electron mass in  eV*s^2/m^2\n",
    "h = 2*np.pi*1.054e-34 #redused Planck constant in 6.5821e-16 eV*s or 1.054e-34 J*s\n",
    "hbar = 1.054e-34 #redused Planck constant in 6.5821e-16 eV*s or 1.054e-34 J*s\n",
    "e = 1.6e-19 #elementary charge [C]\n",
    "d = 5e-10\n",
    "phi_s = 4.7*e # Work function eV sample\n",
    "phi_t = 5.3*e  # Work function eV tip\n",
    "\n",
    "\n",
    "\n",
    "# Low-Voltage Range : phi >> eV\n",
    "\n",
    "beta = 1  #the correction factor\n",
    "\n",
    "phi = (phi_s+phi_t)/2\n",
    "\n",
    "V_1=np.linspace(0, 1, 100)\n",
    "\n",
    "A = (2*beta*np.sqrt(2*m))/hbar #eq.19\n",
    "\n",
    "J_L = ((e**2)*np.sqrt(2*m))/(beta*(2*math.pi*hbar)**2 * d) #eq.22\n",
    "\n",
    "J_1 = J_L*np.sqrt(phi)*V_1*np.exp(-A*d*np.sqrt(phi)) #eq.21\n",
    "\n",
    "\n",
    "# Intermediate-Voltage Range : eV < phi\n",
    "\n",
    "V_2=np.linspace(1, phi_t/e, 100)\n",
    "\n",
    "phi = (phi_s + phi_t - e*V_2)/2\n",
    "\n",
    "J_2 = J_L*np.sqrt(phi)*np.exp(-A*d*np.sqrt(phi))*(V_2 + V_2**3) #eq.23\n",
    "\n",
    "\n",
    "# High-Voltage Range: eV > phi_t\n",
    "\n",
    "beta = 23/24\n",
    "\n",
    "phi = phi_s/2\n",
    "\n",
    "V_3=np.linspace(phi_t/e, 7, 100)\n",
    "\n",
    "d_3 = d*phi_s/(phi_t - phi_s + e*V_3)\n",
    "# d_h = d*phi_s/e*V_3\n",
    "\n",
    "F = V_3/d_3\n",
    "\n",
    "-2*beta*(phi_s**(3/2))*np.sqrt(2*m)/(e*F*hbar)\n",
    "\n",
    "# J_3 = (e**3)*(F_3**2)/(8*(math.pi**2)*hbar*phi_s*(beta**2))*(np.exp(-A*(phi_s**(3/2))/(e*F_3)) - (1 + (2*e*V_3)/phi_s)*np.exp(-A*(phi_s**(3/2))/(e*F_3))*np.sqrt(1 + (2*e*V_3)/phi_s)) #eq.24\n",
    "J_3 = (e**3)*(F**2)/(8*(math.pi**2)*hbar*phi_s*(beta**2))*(np.exp(-2*beta*(phi_s**(3/2))*np.sqrt(2*m)/(e*F*hbar)) - (1 + (2*e*V_3)/phi_s)*np.exp(-2*beta*(phi_s**(3/2))*np.sqrt(2*m)/(e*F*hbar)*np.sqrt(1 + (2*e*V_3)/phi_s))) #eq.24\n",
    "print(f\"F={(e**3)*(F**2)/(8*(math.pi**2)*hbar*phi_s*(beta**2))}\")\n",
    "\n",
    "#if eV > phi + mu\n",
    "\n",
    "V_4=np.linspace(7, 10, 100)\n",
    "\n",
    "d_4 = d*phi_s/(phi_s - phi_t + e*V_4)\n",
    "\n",
    "F = V_4/d_4\n",
    "\n",
    "J_4 = (e**3)*(F**2)/(8*(math.pi**2)*hbar*phi_s*(beta**2))*np.exp(-4*math.pi*beta*(phi_s**(3/2))*np.sqrt(m)/(e*F))#eq.25    \n",
    " #eq.24\n",
    "\n",
    "\n",
    "# Plot each interval's I(V) dependency\n",
    "plt.plot(V_1, J_1, label=\"Low-Voltage Range\", color='blue')\n",
    "plt.plot(V_2, J_2, label=\"Intermediate-Voltage Range\", color='red')\n",
    "plt.plot(V_3, J_3, label=\"High-Voltage Range\", color='green')\n",
    "# plt.plot(V_4, J_4, label=\"High-Voltage Range (if eV > phi + mu)\", color='orange')\n",
    "\n",
    "# Add labels and legend\n",
    "plt.xlabel('Voltage (V)')\n",
    "plt.ylabel('Current (I)')\n",
    "plt.title('Current-Voltage Dependency')\n",
    "plt.legend()\n",
    "\n",
    "# Show the plot\n",
    "plt.grid(True)\n",
    "plt.show()"
   ]
  },
  {
   "cell_type": "code",
   "execution_count": 60,
   "metadata": {},
   "outputs": [
    {
     "name": "stdout",
     "output_type": "stream",
     "text": [
      "A = 2.4545968096592663e+19, J0 = 4.18684e+13\n"
     ]
    },
    {
     "name": "stderr",
     "output_type": "stream",
     "text": [
      "/tmp/ipykernel_269141/1891353017.py:33: RuntimeWarning: divide by zero encountered in divide\n",
      "  A3 = 2 * beta * (phi_s**(3/2)) * np.sqrt(2*m)/(e*F*hbar)\n"
     ]
    },
    {
     "data": {
      "text/plain": [
       "[<matplotlib.lines.Line2D at 0x7f9ea8279210>]"
      ]
     },
     "execution_count": 60,
     "metadata": {},
     "output_type": "execute_result"
    },
    {
     "data": {
      "image/png": "[encoded data removed]",
      "text/plain": [
       "<Figure size 640x480 with 1 Axes>"
      ]
     },
     "metadata": {},
     "output_type": "display_data"
    }
   ],
   "source": [
    "V = np.linspace(0, 7, 100)\n",
    "ds = np.zeros_like(V)\n",
    "phi = np.zeros_like(V)\n",
    "\n",
    "A = (2 * beta * np.sqrt(2 * m)) / hbar #eq.19\n",
    "J0 = e / (2 * np.pi * h * (beta)**2)\n",
    "print(f\"A = {A}, J0 = {J0:g}\")\n",
    "\n",
    "cond1 = V <= phi_t / e\n",
    "ds[cond1] = d \n",
    "phi[cond1] = (phi_s + (phi_t - e*V[cond1])) / 2\n",
    "\n",
    "cond2 = V > phi_t / e\n",
    "ds[cond2] = d * phi_s / (e*V[cond2]) / (1 + (phi_s - phi_t)/(e*V[cond2])) \n",
    "phi[cond2] = phi_s / 2\n",
    "\n",
    "\n",
    "J = (J0 / ds**2) * (phi * np.exp(-A * ds * np.sqrt(phi))\n",
    "                  -(phi + e*V) * np.exp(-A * ds * np.sqrt(phi + e*V)))\n",
    "\n",
    "\n",
    "J_L = ((e**2) * np.sqrt(2*m)) / (beta * (2*np.pi*hbar)**2) #eq.22\n",
    "\n",
    "J_1 = J_L / d * np.sqrt(phi) * np.exp(-A * d * np.sqrt(phi)) * V #eq.21\n",
    "J_1[V > 1] = np.nan\n",
    "\n",
    "sigma = (A*d * e)**2 / (96 * phi) - A*d * e**2 / (32 * phi**1.5)\n",
    "J_2 = J_L / d * np.sqrt(phi) * np.exp(-A * d * np.sqrt(phi)) * (V + sigma * V**3) #eq.23\n",
    "J_2[V < 1] = np.nan\n",
    "J_2[cond2] = np.nan\n",
    "\n",
    "F = V/ds\n",
    "A3 = 2 * beta * (phi_s**(3/2)) * np.sqrt(2*m)/(e*F*hbar)\n",
    "C3 = (e**3)*(F**2)/(8*(np.pi**2)*hbar*phi_s*(beta**2))\n",
    "J_3 = C3 * (np.exp(-A3)\n",
    "    - (1 + (2*e*V)/phi_s)*np.exp(-A3 * np.sqrt(1 + (2 * e * V) / phi_s))) #eq.24\n",
    "J_3[cond1] = np.nan\n",
    "\n",
    "S = 2 * np.pi * (5e-10)**2\n",
    "\n",
    "# plt.plot(V, ds, color='blue')\n",
    "# plt.plot(V, phi / e, color='blue')\n",
    "# plt.plot(V, sigma, color='blue')\n",
    "plt.plot(V, J * S, color='blue')\n",
    "# plt.plot(V, J_1 * S, color='red')\n",
    "# plt.plot(V, J_2 * S, color='green')\n",
    "# plt.plot(V, J_3 * S, color='cyan')\n"
   ]
  },
  {
   "cell_type": "code",
   "execution_count": 13,
   "metadata": {},
   "outputs": [
    {
     "name": "stdout",
     "output_type": "stream",
     "text": [
      "d = 4.1964285714285724e-10\n",
      "V = 5.0\n",
      "F = 11914893617.021275\n",
      "E = -8.396470656489624\n"
     ]
    }
   ],
   "source": [
    "F = V_3/d_3\n",
    "\n",
    "C =-2*beta*(phi_s**(3/2))*np.sqrt(2*m)/(e*F*hbar)\n",
    "print(f\"d = {d_3[0]}\")\n",
    "print(f\"V = {V_3[0]}\")\n",
    "print(f\"F = {F[0]}\")\n",
    "print(f\"E = {C[0]}\")\n"
   ]
  },
  {
   "cell_type": "markdown",
   "id": "e0c8e476",
   "metadata": {},
   "source": [
    "\n",
    "From this basic model, some important features of a more realistic metal-vacuum-metal tunneling can be explained. "
   ]
  },
  {
   "cell_type": "markdown",
   "id": "d333ce57",
   "metadata": {},
   "source": [
    "\n",
    "The probability density for observation of an electron on the other side of the barrier, i.e. **tunneling current** is proportional $ |\\psi(0)|^2e^{-2\\varkappa z} $.\n",
    "Where $\\varkappa = \\frac{\\sqrt{2m(|U| - E})}{\\hbar}$ is decay constant that describes an electron penetraiting through the barrier into $+z$ direction. If $U - E = \\Phi$ for low $V$ we obtain:"
   ]
  },
  {
   "cell_type": "markdown",
   "id": "5ce86f8e",
   "metadata": {},
   "source": [
    "$$ I_{t} \\sim I_0 \\exp\\left(-\\frac{2d  \\sqrt{2m_e\\Phi}}{\\hbar}\\right) $$\n",
    "\n",
    "$I_0$  is a prefactor that depends on the material properties.\n",
    "\n",
    "$d$  is the tip-sample distance.\n",
    "\n",
    "$m_{e}$  is the effective mass of the tunneling electrons.\n",
    "\n",
    "$\\Phi$  is the work function of the material.\n",
    "\n",
    "$V$  is the applied voltage.\n",
    "\n",
    "$\\hbar$  is the reduced Planck's constant.\n",
    "\n",
    "<!-- $k$  is the tunneling attenuation constant. -->\n",
    "\n"
   ]
  },
  {
   "cell_type": "code",
   "execution_count": 77,
   "id": "f96a0d5a",
   "metadata": {},
   "outputs": [
    {
     "name": "stdout",
     "output_type": "stream",
     "text": [
      "k = 1.681e-09 1/nm\n"
     ]
    },
    {
     "data": {
      "image/png": "[encoded data removed]",
      "text/plain": [
       "<Figure size 640x480 with 1 Axes>"
      ]
     },
     "metadata": {},
     "output_type": "display_data"
    }
   ],
   "source": [
    "\"\"\"\n",
    "    Dependence of the tunnel current on the barrier width.\n",
    "\n",
    "    In this section we also calculate the value of the wave vector for studing system. This value will be used in previous blocks.\n",
    "     \n",
    "\"\"\"\n",
    "e = 1.6e-19\n",
    "I0 = 1.0   # Adjust as needed\n",
    "phi = 4.5 *e  # Work function eV\n",
    "V = 0.3 * e # Applied voltage in eV\n",
    "\n",
    "k = (np.sqrt(2 * m * (phi - V))/hbar) # is the wave vector in 1/A, if V is low. \n",
    "print(f\"k = {k:.4} 1/nm\")\n",
    "\n",
    "# Calculate the varying tip-sample separation (distance) from the surface profile\n",
    "z = np.linspace(0, 5e-10, 100)\n",
    "tunneling_current = I0 * np.exp(-2 * k * z) # redused Planck constant in 6.5821e-16 eV*s or 1.054e-34 J*s\n",
    "\n",
    "# Plot the results\n",
    "plt.plot(z*1e10, tunneling_current,label='Tunneling Current')\n",
    "plt.xlabel('z, $\\AA$')\n",
    "plt.ylabel('$I_{t}$, A')\n",
    "plt.title('Tunneling Current vs Barrier width')\n",
    "plt.legend()\n",
    "plt.grid(True)\n",
    "plt.show()"
   ]
  },
  {
   "cell_type": "markdown",
   "id": "1299d77c",
   "metadata": {},
   "source": [
    "The tunneling current decays exponentially with the distance gap distance z, and\n",
    "is strongly affected by the density of states (DOS) of the sample at the Fermi level,"
   ]
  },
  {
   "cell_type": "code",
   "execution_count": 69,
   "id": "103b72dd",
   "metadata": {},
   "outputs": [
    {
     "data": {
      "image/png": "[encoded data removed]",
      "text/plain": [
       "<Figure size 640x480 with 3 Axes>"
      ]
     },
     "metadata": {},
     "output_type": "display_data"
    }
   ],
   "source": [
    "\"\"\"\n",
    "    Using analitical solutions to find the tunnel current through a one-dimensional potential barrier :\n",
    "\n",
    "    - dependence of the tunnel current on the distance between the tip and the surface of the sample (Fig.1c);\n",
    "\n",
    "\"\"\"\n",
    "\n",
    "# Surface profile function sinc^2(x)\n",
    "# Parameters for scaling and shifting\n",
    "width_scaling_factor = 5e-9 # m Adjust this value to widen or narrow the peak\n",
    "height_scaling_factor = 0.3e-10  # m Adjust this value to lower or raise the entire function\n",
    "\n",
    "def surface_profile(x):\n",
    "    return height_scaling_factor * np.sinc(x / width_scaling_factor)**2  # Example: sine wave profile\n",
    "\n",
    "# Generate x values for the surface profile\n",
    "x_values = np.linspace(-10e-9, 10e-9, 100)\n",
    "\n",
    "profile = surface_profile(x_values)\n",
    "z0 = np.max(profile) + 1e-10 # distance between the tip and sample's surface\n",
    "z = z0 - profile \n",
    "# Calculate tunneling current at each position x\n",
    "tunneling_current_surface = I0 * np.exp(-2 * k * z) #6.58e-16eV 1.054e-34\n",
    "\n",
    "\n",
    "# Create a figure with two subplots stacked vertically\n",
    "fig, (ax0, ax1, ax2) = plt.subplots(3, 1, sharex=True)\n",
    "\n",
    "# Plot: Distance between tip and surface\n",
    "ax0.plot(x_values/1e-10, profile/1e-10, color='black') #label='Distance between tip and surface',\n",
    "ax0.plot(x_values/1e-10, z0/1e-10 * np.ones_like(x_values), label='Trajectory of tip', color='green' )  # Plotting z0(x)\n",
    "\n",
    "ax0.set_ylabel('z, $\\AA$')\n",
    "ax0.set_yticklabels([])\n",
    "ax0.legend(loc='upper right', bbox_to_anchor=(1, 1))\n",
    "\n",
    "# Plot: Distance between tip and surface\n",
    "ax1.plot(x_values/1e-10, z/1e-10, label='Distance between tip and surface', color='blue') #\n",
    "ax1.set_ylabel('$\\delta$ z, $\\AA$')\n",
    "ax1.set_yticklabels([])\n",
    "ax1.legend(loc='upper right', bbox_to_anchor=(1, 1))\n",
    "\n",
    "# Plot the results for power-law relationship on the second subplot\n",
    "ax2.plot(x_values/1e-10, tunneling_current_surface, label='Tunneling Current', color='red')\n",
    "ax2.set_xlabel('x, $\\AA$ ')\n",
    "ax2.set_yticklabels([])\n",
    "ax2.set_ylabel('$I_{t}$, nA')\n",
    "ax2.legend(loc='upper right', bbox_to_anchor=(1, 1))\n",
    "\n",
    "# plt.suptitle('Tunneling Current vs Tip-Sample Separation')\n",
    "plt.show()"
   ]
  },
  {
   "cell_type": "markdown",
   "id": "87fea8cb",
   "metadata": {},
   "source": [
    "STM constant current maps provide information about the variations in the\n",
    "electron density, and do not necessarily correspond to the location of atoms (nuclei). \n",
    "\n",
    "\n",
    "$$d(x)\\sim− \\frac{1}{2κ} \\ln\\left(\\frac{I_{t}(x)}{I_0}\\right) $$\n",
    "\n",
    "$I_{t}$ is the tunneling current.\n",
    "\n",
    "$I_0$  is a prefactor that depends on the material properties.\n",
    "\n",
    "$d$  is the tip-sample distance.\n",
    "\n",
    "$k$  is the tunneling attenuation constant: $k = \\frac{\\sqrt{2m\\Phi}}{\\hbar}$\n",
    "\n",
    "$\\hbar$  is the reduced Planck's constant.\n",
    "\n"
   ]
  },
  {
   "cell_type": "code",
   "execution_count": 68,
   "id": "996cbb0c",
   "metadata": {},
   "outputs": [
    {
     "name": "stdout",
     "output_type": "stream",
     "text": [
      "d =  nan\n"
     ]
    },
    {
     "name": "stderr",
     "output_type": "stream",
     "text": [
      "/tmp/ipykernel_269141/1622448318.py:11: RuntimeWarning: invalid value encountered in sqrt\n",
      "  k = (np.sqrt(2 * m * (phi - V))) # the tunneling attenuation constant    6.5821e-16 eV*s\n"
     ]
    },
    {
     "data": {
      "image/png": "[encoded data removed]",
      "text/plain": [
       "<Figure size 640x480 with 1 Axes>"
      ]
     },
     "metadata": {},
     "output_type": "display_data"
    }
   ],
   "source": [
    "\"\"\"\n",
    "    Using analitical solutions to find the coordinate a one-dimensional potential barrier :\n",
    "\n",
    "    - dependence of the posution z of the tip ander the surface at tunneling current and distance const (Fig.1b)  \n",
    "\n",
    "\"\"\"\n",
    "# Constants\n",
    "I0 = 1.0# Constant tunneling current\n",
    "It = 0.1e-9\n",
    "\n",
    "k = (np.sqrt(2 * m * (phi - V))) # the tunneling attenuation constant    6.5821e-16 eV*s\n",
    "\n",
    "width_scaling_factor = 5e-9 # m Adjust this value to widen or narrow the peak\n",
    "height_scaling_factor = 0.3e-10  # m Adjust this value to lower or raise the entire function\n",
    "\n",
    "def surface_profile(x):\n",
    "    return height_scaling_factor * np.sinc(x / width_scaling_factor)**2  # Example: sine wave profile\n",
    "\n",
    "# Generate x values for the surface profile\n",
    "x_values = np.linspace(-10e-9, 10e-9, 100)\n",
    "\n",
    "# Generate tunneling current values (constant)\n",
    "z0 = surface_profile(x_values)\n",
    "\n",
    "# Generate tip-sample distance values (constant)\n",
    "d = (-(1 / 2*k) * np.log(It / I0))\n",
    "z = z0 + d\n",
    "print ('d = ',d)\n",
    "\n",
    "\n",
    "# Plotting\n",
    "plt.plot(x_values/1e-10, z/1e-10, label='Trajectory of tip')\n",
    "plt.plot(x_values/1e-10, z0/1e-10, label='Surface Profile', color='green')\n",
    "\n",
    "plt.xlabel('x, $\\AA$')\n",
    "plt.ylabel('z, $\\AA$')\n",
    "plt.title('')\n",
    "plt.legend()\n",
    "plt.show()"
   ]
  },
  {
   "cell_type": "markdown",
   "id": "f2487c98",
   "metadata": {},
   "source": [
    "STM plays with the very top (outermost) atom at the tip and the\n",
    "nearest atom on sample; so the whole tip is not necessarily very sharp\n",
    "in shape, different from the case of AFM, where spatial “contact” is\n",
    "necessary and crucial for feedback.\n",
    "How do we obtain these wonderful tunneling tips where only one\n",
    "atom is at the top?\n",
    "Answer: really easy to obtain such tips, simply by cutting a thin metal\n",
    "wire using a wire cutter --- there is always a single atom left over at the\n",
    "very top."
   ]
  },
  {
   "cell_type": "markdown",
   "id": "27781116",
   "metadata": {},
   "source": [
    "• STM does NOT probe the nuclear position directly, but rather it is a probe of the\n",
    "local density of electronic states , so STM images do not always show the\n",
    "position of the atoms. STM imaging depends on the nature of the surface and the\n",
    "magnitude and sign of the tunneling current. "
   ]
  },
  {
   "cell_type": "markdown",
   "id": "548e93c1",
   "metadata": {},
   "source": [
    "### Bibliography"
   ]
  },
  {
   "cell_type": "markdown",
   "id": "8169e446",
   "metadata": {},
   "source": [
    "[1] G. Binnig, H. Rohrer, Scanning tunneling microscopy, Physica B+C, 127, Issues 1–3, P.37-45, 1984. https://doi.org/10.1016/S0378-4363(84)80008-X.\n",
    "\n",
    "[2] S. Lounis, Theory of Scanning Tunneling Microscopy, arXiv:1404.0961, 2014. https://doi.org/10.48550/arXiv.1404.0961.\n",
    "\n",
    "[3] M. Ye, S. Eremeev, K. Kuroda et al, Quasiparticle interference on the surface of 3D topological insulator $\\text{Bi}_{2}\\text{Se}_{3}$ induced by cobalt adatom in the absence of ferromagnetic ordering,  arXiv:1112.3206, 2011. https://doi.org/10.48550/arXiv.1112.3206.\n",
    "\n",
    "[4] https://www.wolfram.com/mathematica/\n",
    "\n",
    "[5] https://en.wikipedia.org/wiki/WKB_approximation\n",
    "\n",
    "[6] https://www.ntmdt-si.com/resources/spm-theory/theoretical-background-of-spm/1-scanning-tunnel-microscopy-stm\n",
    "\n",
    "[7] John G. Simmons, Generalized Formula for the Electric Tunnel Effect between Similar Electrodes Separated by a Thin Insulating Film, J. Appl. Phys. 34, P.1793–1803, 1963. https://doi.org/10.1063/1.1702682.\n",
    "\n",
    "\n"
   ]
  }
 ],
 "metadata": {
  "kernelspec": {
   "display_name": "QTech_CUDA_venv",
   "language": "python",
   "name": "qtech_cuda_venv"
  },
  "language_info": {
   "codemirror_mode": {
    "name": "ipython",
    "version": 3
   },
   "file_extension": ".py",
   "mimetype": "text/x-python",
   "name": "python",
   "nbconvert_exporter": "python",
   "pygments_lexer": "ipython3",
   "version": "3.10.12"
  }
 },
 "nbformat": 4,
 "nbformat_minor": 5
}
