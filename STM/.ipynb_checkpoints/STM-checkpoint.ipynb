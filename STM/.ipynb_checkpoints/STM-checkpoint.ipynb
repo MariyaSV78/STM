{
 "cells": [
  {
   "cell_type": "code",
   "execution_count": null,
   "id": "2e02caa0-c4b5-4ca9-83ef-b2b6c46c5990",
   "metadata": {},
   "outputs": [],
   "source": []
  }
 ],
 "metadata": {
  "kernelspec": {
   "display_name": "Python 3 (ipykernel)",
   "language": "python",
   "name": "python3"
  },
  "language_info": {
   "codemirror_mode": {
    "name": "ipython",
    "version": 3
   },
   "file_extension": ".py",
   "mimetype": "text/x-python",
   "name": "python",
   "nbconvert_exporter": "python",
   "pygments_lexer": "ipython3",
   "version": "3.10.12"
  }
 },
 "nbformat": 4,
 "nbformat_minor": 5
}
